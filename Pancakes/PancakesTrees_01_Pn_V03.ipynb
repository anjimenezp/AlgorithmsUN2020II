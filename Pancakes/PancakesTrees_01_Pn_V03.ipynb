{
 "cells": [
  {
   "cell_type": "code",
   "execution_count": 1,
   "metadata": {},
   "outputs": [],
   "source": [
    "import pydot\n",
    "from collections import defaultdict \n",
    "from IPython.display import Image, display"
   ]
  },
  {
   "cell_type": "code",
   "execution_count": 2,
   "metadata": {},
   "outputs": [],
   "source": [
    "def lstr(p):\n",
    "        return ''.join([str(elem)  for elem in p])"
   ]
  },
  {
   "cell_type": "code",
   "execution_count": 3,
   "metadata": {},
   "outputs": [],
   "source": [
    "def p_n(a):\n",
    "    j = 0\n",
    "    s = list(range(1,a+1))\n",
    "    max = [lstr(s), 0]\n",
    "    # Create dictionaries graph,visited and pydot graph G\n",
    "    done = defaultdict()\n",
    "    distances = defaultdict()\n",
    "\n",
    "    distances[lstr(s)] = 0\n",
    "    \n",
    "    # Create a queue for BFS \n",
    "    queue = [] \n",
    "\n",
    "    # Mark the source node as visited and enqueue it \n",
    "    queue.append(s)\n",
    "\n",
    "    while queue: \n",
    "        # Dequeue a vertex from queue \n",
    "        s = queue.pop(0)\n",
    "        j+=1\n",
    "\n",
    "        # Get all adjacent vertices of the \n",
    "        # dequeued vertex s. If a adjacent \n",
    "        # has not been visited, then mark it \n",
    "        # visited and enqueue it\n",
    "        if lstr(s) not in done:\n",
    "            for i in range(len(s)-1):\n",
    "                d = s[i+1::-1] + s[i+2:]  \n",
    "                if (d != s):  \n",
    "                    if lstr(d) not in distances.keys():\n",
    "                        distances[lstr(d)] = 1000\n",
    "                    distances[lstr(d)] = min(distances[lstr(d)], 1+distances[lstr(s)])\n",
    "                    if(distances[lstr(d)] > max[1]):\n",
    "                        max[0] = lstr(d)\n",
    "                        max[1] = distances[lstr(d)]\n",
    "\n",
    "                    if lstr(d) not in done: queue.append(d)\n",
    "\n",
    "        done[lstr(s)] = True\n",
    "    \n",
    "    return max"
   ]
  },
  {
   "cell_type": "markdown",
   "metadata": {},
   "source": [
    "file = open(\"p_n.txt\", \"w\")\n",
    "n = 14\n",
    "try:\n",
    "  for i in range (1, n + 1):\n",
    "    result = p_n(i)\n",
    "    str0 = ', P_' + str(i) + ' = '\n",
    "    str1 = str0.join(str(e) for e in result)\n",
    "    str2 = str1 + \"\\n\"\n",
    "    file.write(str2)\n",
    "    print(p_n(i))\n",
    "finally:\n",
    "  file.close()"
   ]
  },
  {
   "cell_type": "code",
   "execution_count": null,
   "metadata": {},
   "outputs": [],
   "source": []
  }
 ],
 "metadata": {
  "kernelspec": {
   "display_name": "Python 3",
   "language": "python",
   "name": "python3"
  }
 },
 "nbformat": 4,
 "nbformat_minor": 4
}
