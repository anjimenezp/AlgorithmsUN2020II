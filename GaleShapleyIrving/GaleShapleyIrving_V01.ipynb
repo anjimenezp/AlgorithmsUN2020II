{
  "nbformat": 4,
  "nbformat_minor": 0,
  "metadata": {
    "colab": {
      "name": "GaleShapleyIrving_V01.ipynb",
      "provenance": [],
      "collapsed_sections": [
        "cNcDRP--lEdg",
        "Ko8jcyK4tA8g",
        "8JiPLXWG00yA",
        "1Irza3aAtyoZ"
      ],
      "toc_visible": true
    },
    "kernelspec": {
      "name": "python3",
      "display_name": "Python 3"
    }
  },
  "cells": [
    {
      "cell_type": "markdown",
      "metadata": {
        "id": "A5_0ALT3hHQf"
      },
      "source": [
        "<p><img alt=\"UN logo\" height=\"80px\" src=\"https://unal.edu.co/typo3conf/ext/unal_skin_default/Resources/Public/images/escudoUnal_black.png\" align=\"right\" hspace=\"0px\" vspace=\"0px\"></p>"
      ]
    },
    {
      "cell_type": "markdown",
      "metadata": {
        "id": "osm6YUL5dGlR"
      },
      "source": [
        "<H1 align=\"center\">Laboratory 9</H1>\n",
        "<H1 align=\"center\">Gale-Shapley and Irving Algorithms</H1>\n",
        "<h3 align=\"center\">Andrés Felipe Jiménez Pérez</h3>\n",
        "<h3 align=\"center\">2016696 - Algorithms - Grupo 2</h3>\n",
        "<h4 align=\"center\">UNIVERSIDAD NACIONAL DE COLOMBIA</h4>\n",
        "<h3 align=\"center\">November 22, 2020</h3>"
      ]
    },
    {
      "cell_type": "markdown",
      "metadata": {
        "id": "eu_ClLA_WBgP"
      },
      "source": [
        "## **1. Find the best and worst cases for the Gale-Shapley and Irving (An Efficient Algorithm for the “Stable Roommates” Problem) Algorithms and run in Colab these algorithms for those cases for $n=4$ and $40$.**"
      ]
    },
    {
      "cell_type": "code",
      "metadata": {
        "colab": {
          "base_uri": "https://localhost:8080/"
        },
        "id": "blYEU_79cEXq",
        "outputId": "0504279e-e40a-48a1-ebbc-03377d1dfa9b"
      },
      "source": [
        "%pylab inline\n",
        "import pandas as pd\n",
        "import numpy as np\n",
        "from collections import Counter\n",
        "from copy import copy\n",
        "from time import time\n",
        "import matplotlib.pyplot as plt\n",
        "import seaborn as sns"
      ],
      "execution_count": 1,
      "outputs": [
        {
          "output_type": "stream",
          "text": [
            "Populating the interactive namespace from numpy and matplotlib\n"
          ],
          "name": "stdout"
        }
      ]
    },
    {
      "cell_type": "markdown",
      "metadata": {
        "id": "adkyDCPfXd-1"
      },
      "source": [
        "### **Gale-Shapley algorithm**"
      ]
    },
    {
      "cell_type": "markdown",
      "metadata": {
        "id": "0-zZpVXpXg4G"
      },
      "source": [
        "A continuación se implementa el pseudocódigo propuesto en la referencia [2]."
      ]
    },
    {
      "cell_type": "markdown",
      "metadata": {
        "id": "GXlP3gaCXTHh"
      },
      "source": [
        "```\n",
        "function stableMatching {\n",
        "    Initialize all m ∈ M and w ∈ W to free\n",
        "    while ∃ free man m who still has a woman w to propose to {\n",
        "       w = first woman on m’s list to whom m has not yet proposed\n",
        "       if w is free\n",
        "         (m, w) become engaged\n",
        "       else some pair (m', w) already exists\n",
        "         if w prefers m to m'\n",
        "            m' becomes free\n",
        "           (m, w) become engaged \n",
        "         else\n",
        "           (m', w) remain engaged\n",
        "    }\n",
        "}\n",
        "```\n"
      ]
    },
    {
      "cell_type": "code",
      "metadata": {
        "id": "of6ya7kKgCEz"
      },
      "source": [
        "def gale(man_list, women_list, man_df, women_df):\n",
        "  # diccionario para ver cada mujer que cada hombre puede proponersele\n",
        "  women_available = {man:women_list for man in man_list}\n",
        "  # waiting list of men that were able to create pair on each iteration\n",
        "  waiting_list = []\n",
        "  # dict to store created pairs\n",
        "  proposals = {}\n",
        "  # variable to count number of iterations\n",
        "  count = 0\n",
        "\n",
        "  # mientras no todos los hombres tengan pareja\n",
        "  while len(waiting_list)<len(man_list):\n",
        "      # man makes proposals\n",
        "      for man in man_list:\n",
        "          if man not in waiting_list:\n",
        "              # each man make proposal to the top women from it's list\n",
        "              women = women_available[man]\n",
        "              best_choice = man_df.loc[man][man_df.loc[man].index.isin(women)].idxmin()\n",
        "              proposals[(man, best_choice)]=(man_df.loc[man][best_choice],\n",
        "                                                  women_df.loc[man][best_choice])\n",
        "      # si una mujer llega a tener más de un proponiente\n",
        "      # she will choose the best option\n",
        "      overlays = Counter([key[1] for key in proposals.keys()])\n",
        "      # cycle to choose the best options\n",
        "      for women in overlays.keys():\n",
        "          if overlays[women]>1:\n",
        "              # pairs to drop from proposals\n",
        "              pairs_to_drop = sorted({pair: proposals[pair] for pair in proposals.keys() \n",
        "                      if women in pair}.items(), \n",
        "                    key=lambda x: x[1][1]\n",
        "                    )[1:]\n",
        "              # if man was rejected by woman\n",
        "              # there is no pint for him to make proposal \n",
        "              # second time to the same woman\n",
        "              for p_to_drop in pairs_to_drop:\n",
        "                  del proposals[p_to_drop[0]]\n",
        "                  _women = copy(women_available[p_to_drop[0][0]])\n",
        "                  _women.remove(p_to_drop[0][1])\n",
        "                  women_available[p_to_drop[0][0]] = _women\n",
        "      # un hombre que ha creado una pareja se añade a la lista de espera\n",
        "      waiting_list = [man[0] for man in proposals.keys()]\n",
        "      # update counter\n",
        "      count+=1\n",
        "\n",
        "  return proposals, count"
      ],
      "execution_count": 2,
      "outputs": []
    },
    {
      "cell_type": "markdown",
      "metadata": {
        "id": "m7JHVLFFtJe7"
      },
      "source": [
        "#### **$n = 4$**"
      ]
    },
    {
      "cell_type": "markdown",
      "metadata": {
        "id": "1HRiwXGZtJe7"
      },
      "source": [
        "##### **Best cases**"
      ]
    },
    {
      "cell_type": "code",
      "metadata": {
        "id": "OQICL8jbm43Y"
      },
      "source": [
        "man_list = ['a', 'b', 'c', 'd']\n",
        "women_list = ['A', 'B', 'C', 'D']"
      ],
      "execution_count": 3,
      "outputs": []
    },
    {
      "cell_type": "code",
      "metadata": {
        "id": "UAulWGgjm43Y"
      },
      "source": [
        "women_df = pd.DataFrame({'A': [1,2,3,4], 'B': [2,1,3,4], 'C':[3,2,1,4], 'D':[4,2,3,1]})\n",
        "women_df.index = man_list"
      ],
      "execution_count": 4,
      "outputs": []
    },
    {
      "cell_type": "code",
      "metadata": {
        "id": "0yk5oUOQm43Y"
      },
      "source": [
        "man_df = pd.DataFrame({'A': [1,2,3,4], 'B': [2,1,3,4], 'C':[3,2,1,4], 'D':[4,2,3,1]})\n",
        "man_df.index = man_list"
      ],
      "execution_count": 5,
      "outputs": []
    },
    {
      "cell_type": "code",
      "metadata": {
        "colab": {
          "base_uri": "https://localhost:8080/",
          "height": 168
        },
        "id": "Axw58oRxm43Z",
        "outputId": "93a6195e-2fe2-45a7-ada7-5fb4ab5a6b37"
      },
      "source": [
        "women_df"
      ],
      "execution_count": 6,
      "outputs": [
        {
          "output_type": "execute_result",
          "data": {
            "text/html": [
              "<div>\n",
              "<style scoped>\n",
              "    .dataframe tbody tr th:only-of-type {\n",
              "        vertical-align: middle;\n",
              "    }\n",
              "\n",
              "    .dataframe tbody tr th {\n",
              "        vertical-align: top;\n",
              "    }\n",
              "\n",
              "    .dataframe thead th {\n",
              "        text-align: right;\n",
              "    }\n",
              "</style>\n",
              "<table border=\"1\" class=\"dataframe\">\n",
              "  <thead>\n",
              "    <tr style=\"text-align: right;\">\n",
              "      <th></th>\n",
              "      <th>A</th>\n",
              "      <th>B</th>\n",
              "      <th>C</th>\n",
              "      <th>D</th>\n",
              "    </tr>\n",
              "  </thead>\n",
              "  <tbody>\n",
              "    <tr>\n",
              "      <th>a</th>\n",
              "      <td>1</td>\n",
              "      <td>2</td>\n",
              "      <td>3</td>\n",
              "      <td>4</td>\n",
              "    </tr>\n",
              "    <tr>\n",
              "      <th>b</th>\n",
              "      <td>2</td>\n",
              "      <td>1</td>\n",
              "      <td>2</td>\n",
              "      <td>2</td>\n",
              "    </tr>\n",
              "    <tr>\n",
              "      <th>c</th>\n",
              "      <td>3</td>\n",
              "      <td>3</td>\n",
              "      <td>1</td>\n",
              "      <td>3</td>\n",
              "    </tr>\n",
              "    <tr>\n",
              "      <th>d</th>\n",
              "      <td>4</td>\n",
              "      <td>4</td>\n",
              "      <td>4</td>\n",
              "      <td>1</td>\n",
              "    </tr>\n",
              "  </tbody>\n",
              "</table>\n",
              "</div>"
            ],
            "text/plain": [
              "   A  B  C  D\n",
              "a  1  2  3  4\n",
              "b  2  1  2  2\n",
              "c  3  3  1  3\n",
              "d  4  4  4  1"
            ]
          },
          "metadata": {
            "tags": []
          },
          "execution_count": 6
        }
      ]
    },
    {
      "cell_type": "code",
      "metadata": {
        "colab": {
          "base_uri": "https://localhost:8080/",
          "height": 168
        },
        "id": "ifdPzPEkm43Z",
        "outputId": "33b5f86b-f4ce-44f0-d0ac-a1d81538ad56"
      },
      "source": [
        "man_df"
      ],
      "execution_count": 7,
      "outputs": [
        {
          "output_type": "execute_result",
          "data": {
            "text/html": [
              "<div>\n",
              "<style scoped>\n",
              "    .dataframe tbody tr th:only-of-type {\n",
              "        vertical-align: middle;\n",
              "    }\n",
              "\n",
              "    .dataframe tbody tr th {\n",
              "        vertical-align: top;\n",
              "    }\n",
              "\n",
              "    .dataframe thead th {\n",
              "        text-align: right;\n",
              "    }\n",
              "</style>\n",
              "<table border=\"1\" class=\"dataframe\">\n",
              "  <thead>\n",
              "    <tr style=\"text-align: right;\">\n",
              "      <th></th>\n",
              "      <th>A</th>\n",
              "      <th>B</th>\n",
              "      <th>C</th>\n",
              "      <th>D</th>\n",
              "    </tr>\n",
              "  </thead>\n",
              "  <tbody>\n",
              "    <tr>\n",
              "      <th>a</th>\n",
              "      <td>1</td>\n",
              "      <td>2</td>\n",
              "      <td>3</td>\n",
              "      <td>4</td>\n",
              "    </tr>\n",
              "    <tr>\n",
              "      <th>b</th>\n",
              "      <td>2</td>\n",
              "      <td>1</td>\n",
              "      <td>2</td>\n",
              "      <td>2</td>\n",
              "    </tr>\n",
              "    <tr>\n",
              "      <th>c</th>\n",
              "      <td>3</td>\n",
              "      <td>3</td>\n",
              "      <td>1</td>\n",
              "      <td>3</td>\n",
              "    </tr>\n",
              "    <tr>\n",
              "      <th>d</th>\n",
              "      <td>4</td>\n",
              "      <td>4</td>\n",
              "      <td>4</td>\n",
              "      <td>1</td>\n",
              "    </tr>\n",
              "  </tbody>\n",
              "</table>\n",
              "</div>"
            ],
            "text/plain": [
              "   A  B  C  D\n",
              "a  1  2  3  4\n",
              "b  2  1  2  2\n",
              "c  3  3  1  3\n",
              "d  4  4  4  1"
            ]
          },
          "metadata": {
            "tags": []
          },
          "execution_count": 7
        }
      ]
    },
    {
      "cell_type": "code",
      "metadata": {
        "colab": {
          "base_uri": "https://localhost:8080/"
        },
        "id": "V2PLMh70m43Z",
        "outputId": "51cba4bd-7d16-4fdb-c2d4-2395f80b86c8"
      },
      "source": [
        "time0 = time()\n",
        "proposals, count = gale(man_list, women_list, man_df, women_df)\n",
        "print(\"Proposals:\", proposals, \"\\n\\t--> Iteraciones:\", count)\n",
        "time1 = time()\n",
        "print(\"\\t--> Tiempo de ejecución:\", time1 - time0)"
      ],
      "execution_count": 8,
      "outputs": [
        {
          "output_type": "stream",
          "text": [
            "Proposals: {('a', 'A'): (1, 1), ('b', 'B'): (1, 1), ('c', 'C'): (1, 1), ('d', 'D'): (1, 1)} \n",
            "\t--> Iteraciones: 1\n",
            "\t--> Tiempo de ejecución: 0.007120847702026367\n"
          ],
          "name": "stdout"
        }
      ]
    },
    {
      "cell_type": "markdown",
      "metadata": {
        "id": "LVmEy7gmtJe8"
      },
      "source": [
        "##### **Worst cases**"
      ]
    },
    {
      "cell_type": "code",
      "metadata": {
        "id": "GNRAduxRFWgm"
      },
      "source": [
        "man_list = ['a', 'b', 'c', 'd']\n",
        "women_list = ['A', 'B', 'C', 'D']"
      ],
      "execution_count": 9,
      "outputs": []
    },
    {
      "cell_type": "code",
      "metadata": {
        "colab": {
          "base_uri": "https://localhost:8080/",
          "height": 168
        },
        "id": "WbDXjw8mFWgr",
        "outputId": "f650d244-48f9-4ba7-b176-57039633c671"
      },
      "source": [
        "man_df"
      ],
      "execution_count": 10,
      "outputs": [
        {
          "output_type": "execute_result",
          "data": {
            "text/html": [
              "<div>\n",
              "<style scoped>\n",
              "    .dataframe tbody tr th:only-of-type {\n",
              "        vertical-align: middle;\n",
              "    }\n",
              "\n",
              "    .dataframe tbody tr th {\n",
              "        vertical-align: top;\n",
              "    }\n",
              "\n",
              "    .dataframe thead th {\n",
              "        text-align: right;\n",
              "    }\n",
              "</style>\n",
              "<table border=\"1\" class=\"dataframe\">\n",
              "  <thead>\n",
              "    <tr style=\"text-align: right;\">\n",
              "      <th></th>\n",
              "      <th>A</th>\n",
              "      <th>B</th>\n",
              "      <th>C</th>\n",
              "      <th>D</th>\n",
              "    </tr>\n",
              "  </thead>\n",
              "  <tbody>\n",
              "    <tr>\n",
              "      <th>a</th>\n",
              "      <td>1</td>\n",
              "      <td>2</td>\n",
              "      <td>3</td>\n",
              "      <td>4</td>\n",
              "    </tr>\n",
              "    <tr>\n",
              "      <th>b</th>\n",
              "      <td>2</td>\n",
              "      <td>1</td>\n",
              "      <td>2</td>\n",
              "      <td>2</td>\n",
              "    </tr>\n",
              "    <tr>\n",
              "      <th>c</th>\n",
              "      <td>3</td>\n",
              "      <td>3</td>\n",
              "      <td>1</td>\n",
              "      <td>3</td>\n",
              "    </tr>\n",
              "    <tr>\n",
              "      <th>d</th>\n",
              "      <td>4</td>\n",
              "      <td>4</td>\n",
              "      <td>4</td>\n",
              "      <td>1</td>\n",
              "    </tr>\n",
              "  </tbody>\n",
              "</table>\n",
              "</div>"
            ],
            "text/plain": [
              "   A  B  C  D\n",
              "a  1  2  3  4\n",
              "b  2  1  2  2\n",
              "c  3  3  1  3\n",
              "d  4  4  4  1"
            ]
          },
          "metadata": {
            "tags": []
          },
          "execution_count": 10
        }
      ]
    },
    {
      "cell_type": "code",
      "metadata": {
        "colab": {
          "base_uri": "https://localhost:8080/",
          "height": 168
        },
        "id": "8MJI2DEqFWgo",
        "outputId": "66a74f59-a8ea-4277-d254-d24d71e5e3f7"
      },
      "source": [
        "women_df"
      ],
      "execution_count": 11,
      "outputs": [
        {
          "output_type": "execute_result",
          "data": {
            "text/html": [
              "<div>\n",
              "<style scoped>\n",
              "    .dataframe tbody tr th:only-of-type {\n",
              "        vertical-align: middle;\n",
              "    }\n",
              "\n",
              "    .dataframe tbody tr th {\n",
              "        vertical-align: top;\n",
              "    }\n",
              "\n",
              "    .dataframe thead th {\n",
              "        text-align: right;\n",
              "    }\n",
              "</style>\n",
              "<table border=\"1\" class=\"dataframe\">\n",
              "  <thead>\n",
              "    <tr style=\"text-align: right;\">\n",
              "      <th></th>\n",
              "      <th>A</th>\n",
              "      <th>B</th>\n",
              "      <th>C</th>\n",
              "      <th>D</th>\n",
              "    </tr>\n",
              "  </thead>\n",
              "  <tbody>\n",
              "    <tr>\n",
              "      <th>a</th>\n",
              "      <td>1</td>\n",
              "      <td>2</td>\n",
              "      <td>3</td>\n",
              "      <td>4</td>\n",
              "    </tr>\n",
              "    <tr>\n",
              "      <th>b</th>\n",
              "      <td>2</td>\n",
              "      <td>1</td>\n",
              "      <td>2</td>\n",
              "      <td>2</td>\n",
              "    </tr>\n",
              "    <tr>\n",
              "      <th>c</th>\n",
              "      <td>3</td>\n",
              "      <td>3</td>\n",
              "      <td>1</td>\n",
              "      <td>3</td>\n",
              "    </tr>\n",
              "    <tr>\n",
              "      <th>d</th>\n",
              "      <td>4</td>\n",
              "      <td>4</td>\n",
              "      <td>4</td>\n",
              "      <td>1</td>\n",
              "    </tr>\n",
              "  </tbody>\n",
              "</table>\n",
              "</div>"
            ],
            "text/plain": [
              "   A  B  C  D\n",
              "a  1  2  3  4\n",
              "b  2  1  2  2\n",
              "c  3  3  1  3\n",
              "d  4  4  4  1"
            ]
          },
          "metadata": {
            "tags": []
          },
          "execution_count": 11
        }
      ]
    },
    {
      "cell_type": "code",
      "metadata": {
        "id": "zQLoPlz7SJHw"
      },
      "source": [
        "man_df = pd.DataFrame({'A': [1,2,3,4], 'B': [2,3,1,4], 'C':[3,1,2,4], 'D':[1,2,3,4]})\n",
        "man_df.index = man_list\n",
        "\n",
        "women_df = pd.DataFrame({'A': [2,3,4,1], 'B': [3,4,1,2], 'C':[4,1,2,3], 'D':[1,2,3,4]})\n",
        "women_df.index = man_list"
      ],
      "execution_count": 12,
      "outputs": []
    },
    {
      "cell_type": "code",
      "metadata": {
        "colab": {
          "base_uri": "https://localhost:8080/"
        },
        "id": "irQsbPGCFWgs",
        "outputId": "6efc458a-361b-49d5-ae26-290529329876"
      },
      "source": [
        "time0 = time()\n",
        "proposals, count = gale(man_list, women_list, man_df, women_df)\n",
        "print(\"Proposals:\", proposals, \"\\n\\t--> Iteraciones:\", count)\n",
        "time1 = time()\n",
        "print(\"\\t--> Tiempo de ejecución:\", time1 - time0)"
      ],
      "execution_count": 13,
      "outputs": [
        {
          "output_type": "stream",
          "text": [
            "Proposals: {('b', 'C'): (1, 1), ('c', 'B'): (1, 1), ('d', 'A'): (4, 1), ('a', 'D'): (1, 1)} \n",
            "\t--> Iteraciones: 2\n",
            "\t--> Tiempo de ejecución: 0.005999565124511719\n"
          ],
          "name": "stdout"
        }
      ]
    },
    {
      "cell_type": "markdown",
      "metadata": {
        "id": "lgUxnhHnhe4C"
      },
      "source": [
        "#### **$n = 40$**"
      ]
    },
    {
      "cell_type": "markdown",
      "metadata": {
        "id": "7yIERflehe4C"
      },
      "source": [
        "##### **Best cases**"
      ]
    },
    {
      "cell_type": "code",
      "metadata": {
        "id": "f6hZ7e1Bh6fd"
      },
      "source": [
        "man_list = ['m1', 'm2', 'm3', 'm4', 'm5', 'm6', 'm7', 'm8', 'm9', 'm10',\n",
        "            'm11', 'm12', 'm13', 'm14', 'm15', 'm16', 'm17', 'm18', 'm19', 'm20',\n",
        "            'm21', 'm22', 'm23', 'm24', 'm25', 'm26', 'm27', 'm28', 'm29', 'm30',\n",
        "            'm31', 'm32', 'm33', 'm34', 'm35', 'm36', 'm37', 'm38', 'm39', 'm40']\n",
        "women_list = ['w1', 'w2', 'w3', 'w4', 'w5', 'w6', 'w7', 'w8', 'w9', 'w10',\n",
        "              'w11', 'w12', 'w13', 'w14', 'w15', 'w16', 'w17', 'w18', 'w19', 'w20',\n",
        "              'w21', 'w22', 'w23', 'w24', 'w25', 'w26', 'w27', 'w28', 'w29', 'w30',\n",
        "              'w31', 'w32', 'w33', 'w34', 'w35', 'w36', 'w37', 'w38', 'w39', 'w40']              \n",
        "count_list = []\n",
        "n = 40\n",
        "preference_list = [i for i in range(1, 41)]\n",
        "\n",
        "women_df = pd.DataFrame({'w1': preference_list, 'w2': preference_list, 'w3':preference_list, 'w4':preference_list, 'w5':preference_list, 'w6': preference_list, 'w7':preference_list, 'w8':preference_list, 'w9':preference_list, 'w10':preference_list,\n",
        "                          'w11': preference_list, 'w12': preference_list, 'w13':preference_list, 'w14':preference_list, 'w15':preference_list, 'w16': preference_list, 'w17':preference_list, 'w18':preference_list, 'w19':preference_list, 'w20':preference_list,\n",
        "                          'w21': preference_list, 'w22': preference_list, 'w23':preference_list, 'w24':preference_list, 'w25':preference_list, 'w26': preference_list, 'w27':preference_list, 'w28':preference_list, 'w29':preference_list, 'w30':preference_list,\n",
        "                          'w31': preference_list, 'w32': preference_list, 'w33':preference_list, 'w34':preference_list, 'w35':preference_list, 'w36': preference_list, 'w37':preference_list, 'w38':preference_list, 'w39':preference_list, 'w40':preference_list})\n",
        "women_df.index = man_list\n",
        "man_df = pd.DataFrame({'w1': preference_list, 'w2': preference_list, 'w3':preference_list, 'w4':preference_list, 'w5':preference_list, 'w6': preference_list, 'w7':preference_list, 'w8':preference_list, 'w9':preference_list, 'w10':preference_list,\n",
        "                          'w11': preference_list, 'w12': preference_list, 'w13':preference_list, 'w14':preference_list, 'w15':preference_list, 'w16': preference_list, 'w17':preference_list, 'w18':preference_list, 'w19':preference_list, 'w20':preference_list,\n",
        "                          'w21': preference_list, 'w22': preference_list, 'w23':preference_list, 'w24':preference_list, 'w25':preference_list, 'w26': preference_list, 'w27':preference_list, 'w28':preference_list, 'w29':preference_list, 'w30':preference_list,\n",
        "                          'w31': preference_list, 'w32': preference_list, 'w33':preference_list, 'w34':preference_list, 'w35':preference_list, 'w36': preference_list, 'w37':preference_list, 'w38':preference_list, 'w39':preference_list, 'w40':preference_list})\n",
        "man_df.index = man_list\n",
        "proposals, count = gale(man_list, women_list, man_df, women_df)\n",
        "count_list.append(count)"
      ],
      "execution_count": 14,
      "outputs": []
    },
    {
      "cell_type": "code",
      "metadata": {
        "colab": {
          "base_uri": "https://localhost:8080/"
        },
        "id": "XuFs4Fjche4E",
        "outputId": "cded0642-e280-4339-9a37-5f8614a65771"
      },
      "source": [
        "time0 = time()\n",
        "print(\"Proposals:\", proposals, \"\\n\\t--> Iteraciones:\", count)\n",
        "time1 = time()\n",
        "print(\"\\t--> Tiempo de ejecución:\", time1 - time0)"
      ],
      "execution_count": 15,
      "outputs": [
        {
          "output_type": "stream",
          "text": [
            "Proposals: {('m1', 'w1'): (1, 1), ('m2', 'w2'): (2, 2), ('m3', 'w3'): (3, 3), ('m4', 'w4'): (4, 4), ('m5', 'w5'): (5, 5), ('m6', 'w6'): (6, 6), ('m7', 'w7'): (7, 7), ('m8', 'w8'): (8, 8), ('m9', 'w9'): (9, 9), ('m10', 'w10'): (10, 10), ('m11', 'w11'): (11, 11), ('m12', 'w12'): (12, 12), ('m13', 'w13'): (13, 13), ('m14', 'w14'): (14, 14), ('m15', 'w15'): (15, 15), ('m16', 'w16'): (16, 16), ('m17', 'w17'): (17, 17), ('m18', 'w18'): (18, 18), ('m19', 'w19'): (19, 19), ('m20', 'w20'): (20, 20), ('m21', 'w21'): (21, 21), ('m22', 'w22'): (22, 22), ('m23', 'w23'): (23, 23), ('m24', 'w24'): (24, 24), ('m25', 'w25'): (25, 25), ('m26', 'w26'): (26, 26), ('m27', 'w27'): (27, 27), ('m28', 'w28'): (28, 28), ('m29', 'w29'): (29, 29), ('m30', 'w30'): (30, 30), ('m31', 'w31'): (31, 31), ('m32', 'w32'): (32, 32), ('m33', 'w33'): (33, 33), ('m34', 'w34'): (34, 34), ('m35', 'w35'): (35, 35), ('m36', 'w36'): (36, 36), ('m37', 'w37'): (37, 37), ('m38', 'w38'): (38, 38), ('m39', 'w39'): (39, 39), ('m40', 'w40'): (40, 40)} \n",
            "\t--> Iteraciones: 40\n",
            "\t--> Tiempo de ejecución: 0.0003445148468017578\n"
          ],
          "name": "stdout"
        }
      ]
    },
    {
      "cell_type": "markdown",
      "metadata": {
        "id": "OaqFr2eMhe4F"
      },
      "source": [
        "##### **Worst cases**"
      ]
    },
    {
      "cell_type": "code",
      "metadata": {
        "colab": {
          "base_uri": "https://localhost:8080/"
        },
        "id": "QEuRWuqJFuX4",
        "outputId": "fe8b8217-03e4-4e1c-bc79-4645db88ab74"
      },
      "source": [
        "# def list_pref_gale(i, j):\n",
        "n = 4\n",
        "worst_case_final = []\n",
        "worst_case = [list(range(i,2*n-1))+list(range(n,i))+[2*n-1] for i in range(n,2*n)] + [list(range((i+1),n))+list(range(i))+[i] for i in range(n)]\n",
        "for e in range(0, n):\n",
        "  # for e1 in worst_case:\n",
        "  #   worst_case_i = e1[][e1 - i for e1 in e]\n",
        "  worst_case_i = [e1 - 3 for e1 in worst_case[e]]\n",
        "  worst_case_final.append(worst_case_i)\n",
        "  # print(worst_case_i)\n",
        "for k in range(n, n*2):\n",
        "  worst_case_i = [e1 + 1 for e1 in worst_case[k]]\n",
        "  worst_case_final.append(worst_case_i)\n",
        "print(worst_case_final)\n",
        "  # return worst_case_final[j]"
      ],
      "execution_count": 16,
      "outputs": [
        {
          "output_type": "stream",
          "text": [
            "[[1, 2, 3, 4], [2, 3, 1, 4], [3, 1, 2, 4], [1, 2, 3, 4], [2, 3, 4, 1], [3, 4, 1, 2], [4, 1, 2, 3], [1, 2, 3, 4]]\n"
          ],
          "name": "stdout"
        }
      ]
    },
    {
      "cell_type": "code",
      "metadata": {
        "id": "9TXmaG7ZFWgo"
      },
      "source": [
        "# print(list_pref_gale(n, 0))\n",
        "# man_df = pd.DataFrame({'A': list_pref_gale(n, 0), 'B': list_pref_gale(n, 1), 'C':list_pref_gale(n, 2), 'D':list_pref_gale(n, 3)})\n",
        "# man_df.index = man_list\n",
        "\n",
        "# women_df = pd.DataFrame({'A': list_pref_gale(n, 4), 'B': list_pref_gale(n, 5), 'C':list_pref_gale(n, 6), 'D':list_pref_gale(n, 7)})\n",
        "# women_df.index = man_list"
      ],
      "execution_count": 17,
      "outputs": []
    },
    {
      "cell_type": "code",
      "metadata": {
        "id": "Pch0yu02QnPN"
      },
      "source": [
        "# n = 4\n",
        "# worst_case = [list(range(i,2*n-1))+list(range(n,i))+[2*n-1] for i in range(n,2*n)] + [list(range((i+1),n))+list(range(i))+[i] for i in range(n)]\n",
        "\n",
        "# # print(worst_case[3])\n",
        "# man_df = pd.DataFrame({'A': worst_case[0], 'B': worst_case[1], 'C':worst_case[2], 'D':worst_case[3]})\n",
        "# man_df.index = man_list\n",
        "\n",
        "# women_df = pd.DataFrame({'A': worst_case[4], 'B': worst_case[5], 'C':worst_case[6], 'D':worst_case[7]})\n",
        "# women_df.index = man_list"
      ],
      "execution_count": 18,
      "outputs": []
    },
    {
      "cell_type": "markdown",
      "metadata": {
        "id": "A_SCUXkMllqK"
      },
      "source": [
        "### **Irving algorithm**"
      ]
    },
    {
      "cell_type": "markdown",
      "metadata": {
        "id": "fKZFJnHVllqK"
      },
      "source": [
        "A continuación se implementa el pseudocódigo propuesto en la referencia [2]."
      ]
    },
    {
      "cell_type": "code",
      "metadata": {
        "id": "j77wjru2ZTeF"
      },
      "source": [
        ""
      ],
      "execution_count": 18,
      "outputs": []
    },
    {
      "cell_type": "code",
      "metadata": {
        "colab": {
          "base_uri": "https://localhost:8080/"
        },
        "id": "lkCXrGjCPgMz",
        "outputId": "f8094511-ce9e-44f3-bcee-22855026a7fb"
      },
      "source": [
        "pip install matching"
      ],
      "execution_count": 19,
      "outputs": [
        {
          "output_type": "stream",
          "text": [
            "Requirement already satisfied: matching in /usr/local/lib/python3.6/dist-packages (1.4)\n"
          ],
          "name": "stdout"
        }
      ]
    },
    {
      "cell_type": "code",
      "metadata": {
        "id": "pl6mweJXrVfF"
      },
      "source": [
        "from matching.games import StableRoommates"
      ],
      "execution_count": 20,
      "outputs": []
    },
    {
      "cell_type": "code",
      "metadata": {
        "colab": {
          "base_uri": "https://localhost:8080/"
        },
        "id": "h6mG8PyHjsk3",
        "outputId": "07109479-2adb-4fa1-839b-49ca141116e1"
      },
      "source": [
        "# Ejemplo de implementación\n",
        "preferences = {0 : [2, 3, 1, 5, 4], 1 : [5, 4, 3, 0, 2], 2 : [1, 3, 4, 0, 5], 3 : [4, 1, 2, 5, 0], 4 : [2, 0, 1, 3, 5], 5 : [4, 0, 2, 3, 1]}\n",
        "game = StableRoommates.create_from_dictionary(preferences)\n",
        "game.solve()"
      ],
      "execution_count": 21,
      "outputs": [
        {
          "output_type": "execute_result",
          "data": {
            "text/plain": [
              "{0: 5, 1: 3, 2: 4, 3: 1, 4: 2, 5: 0}"
            ]
          },
          "metadata": {
            "tags": []
          },
          "execution_count": 21
        }
      ]
    },
    {
      "cell_type": "markdown",
      "metadata": {
        "id": "MBPEvwgvjN4u"
      },
      "source": [
        "#### **$n = 4$**"
      ]
    },
    {
      "cell_type": "markdown",
      "metadata": {
        "id": "N-vHINuXk8ja"
      },
      "source": [
        "##### **Best cases**"
      ]
    },
    {
      "cell_type": "code",
      "metadata": {
        "colab": {
          "base_uri": "https://localhost:8080/",
          "height": 138
        },
        "id": "TMLI9_p-sGAN",
        "outputId": "26d19e5a-6906-47e6-a61c-6a666f4ae081"
      },
      "source": [
        "# Ejemplo de implementación\n",
        "preferences = {0 : [1, 2, 3], 1 : [0, 2, 3], 2 : [3, 0, 1], 3 : [2, 0, 1]}\n",
        "preferences_df = pd.DataFrame(preferences)\n",
        "preferences_df.index = ['preference 1', 'preference 2', 'preference 3']\n",
        "preferences_df"
      ],
      "execution_count": 22,
      "outputs": [
        {
          "output_type": "execute_result",
          "data": {
            "text/html": [
              "<div>\n",
              "<style scoped>\n",
              "    .dataframe tbody tr th:only-of-type {\n",
              "        vertical-align: middle;\n",
              "    }\n",
              "\n",
              "    .dataframe tbody tr th {\n",
              "        vertical-align: top;\n",
              "    }\n",
              "\n",
              "    .dataframe thead th {\n",
              "        text-align: right;\n",
              "    }\n",
              "</style>\n",
              "<table border=\"1\" class=\"dataframe\">\n",
              "  <thead>\n",
              "    <tr style=\"text-align: right;\">\n",
              "      <th></th>\n",
              "      <th>0</th>\n",
              "      <th>1</th>\n",
              "      <th>2</th>\n",
              "      <th>3</th>\n",
              "    </tr>\n",
              "  </thead>\n",
              "  <tbody>\n",
              "    <tr>\n",
              "      <th>preference 1</th>\n",
              "      <td>1</td>\n",
              "      <td>0</td>\n",
              "      <td>3</td>\n",
              "      <td>2</td>\n",
              "    </tr>\n",
              "    <tr>\n",
              "      <th>preference 2</th>\n",
              "      <td>2</td>\n",
              "      <td>2</td>\n",
              "      <td>0</td>\n",
              "      <td>0</td>\n",
              "    </tr>\n",
              "    <tr>\n",
              "      <th>preference 3</th>\n",
              "      <td>3</td>\n",
              "      <td>3</td>\n",
              "      <td>1</td>\n",
              "      <td>1</td>\n",
              "    </tr>\n",
              "  </tbody>\n",
              "</table>\n",
              "</div>"
            ],
            "text/plain": [
              "              0  1  2  3\n",
              "preference 1  1  0  3  2\n",
              "preference 2  2  2  0  0\n",
              "preference 3  3  3  1  1"
            ]
          },
          "metadata": {
            "tags": []
          },
          "execution_count": 22
        }
      ]
    },
    {
      "cell_type": "code",
      "metadata": {
        "colab": {
          "base_uri": "https://localhost:8080/"
        },
        "id": "j-uDzNNRnU_I",
        "outputId": "5b126316-d021-4c37-b556-25fe56df4e25"
      },
      "source": [
        "time0 = time()\n",
        "game = StableRoommates.create_from_dictionary(preferences)\n",
        "sol = game.solve()\n",
        "time1 = time()\n",
        "print(sol)\n",
        "print(\"--> Tiempo de ejecución: \", time1 - time0)"
      ],
      "execution_count": 23,
      "outputs": [
        {
          "output_type": "stream",
          "text": [
            "{0: 1, 1: 0, 2: 3, 3: 2}\n",
            "--> Tiempo de ejecución:  0.0004994869232177734\n"
          ],
          "name": "stdout"
        }
      ]
    },
    {
      "cell_type": "markdown",
      "metadata": {
        "id": "cNcDRP--lEdg"
      },
      "source": [
        "##### **Worst cases**"
      ]
    },
    {
      "cell_type": "code",
      "metadata": {
        "colab": {
          "base_uri": "https://localhost:8080/",
          "height": 0
        },
        "id": "ZwnPSIFNs-Ek",
        "outputId": "f1a62d2c-64a7-4c45-d993-c4e93508eded"
      },
      "source": [
        "# Ejemplo de implementación\n",
        "preferences = {0 : [1, 2, 3], 1 : [2, 3, 0], 2 : [0, 1, 3], 3 : [1, 2, 0]}\n",
        "preferences_df = pd.DataFrame(preferences)\n",
        "preferences_df.index = ['preference 1', 'preference 2', 'preference 3']\n",
        "preferences_df"
      ],
      "execution_count": 24,
      "outputs": [
        {
          "output_type": "execute_result",
          "data": {
            "text/html": [
              "<div>\n",
              "<style scoped>\n",
              "    .dataframe tbody tr th:only-of-type {\n",
              "        vertical-align: middle;\n",
              "    }\n",
              "\n",
              "    .dataframe tbody tr th {\n",
              "        vertical-align: top;\n",
              "    }\n",
              "\n",
              "    .dataframe thead th {\n",
              "        text-align: right;\n",
              "    }\n",
              "</style>\n",
              "<table border=\"1\" class=\"dataframe\">\n",
              "  <thead>\n",
              "    <tr style=\"text-align: right;\">\n",
              "      <th></th>\n",
              "      <th>0</th>\n",
              "      <th>1</th>\n",
              "      <th>2</th>\n",
              "      <th>3</th>\n",
              "    </tr>\n",
              "  </thead>\n",
              "  <tbody>\n",
              "    <tr>\n",
              "      <th>preference 1</th>\n",
              "      <td>1</td>\n",
              "      <td>2</td>\n",
              "      <td>0</td>\n",
              "      <td>1</td>\n",
              "    </tr>\n",
              "    <tr>\n",
              "      <th>preference 2</th>\n",
              "      <td>2</td>\n",
              "      <td>3</td>\n",
              "      <td>1</td>\n",
              "      <td>2</td>\n",
              "    </tr>\n",
              "    <tr>\n",
              "      <th>preference 3</th>\n",
              "      <td>3</td>\n",
              "      <td>0</td>\n",
              "      <td>3</td>\n",
              "      <td>0</td>\n",
              "    </tr>\n",
              "  </tbody>\n",
              "</table>\n",
              "</div>"
            ],
            "text/plain": [
              "              0  1  2  3\n",
              "preference 1  1  2  0  1\n",
              "preference 2  2  3  1  2\n",
              "preference 3  3  0  3  0"
            ]
          },
          "metadata": {
            "tags": []
          },
          "execution_count": 24
        }
      ]
    },
    {
      "cell_type": "code",
      "metadata": {
        "colab": {
          "base_uri": "https://localhost:8080/"
        },
        "id": "c8g5xSXEs-Em",
        "outputId": "70e76b66-a6c0-48b0-8bec-b648aae4c08c"
      },
      "source": [
        "time0 = time()\n",
        "game = StableRoommates.create_from_dictionary(preferences)\n",
        "sol = game.solve()\n",
        "time1 = time()\n",
        "print(sol)\n",
        "print(\"--> Tiempo de ejecución: \", time1 - time0)"
      ],
      "execution_count": 25,
      "outputs": [
        {
          "output_type": "stream",
          "text": [
            "{0: 2, 1: 3, 2: 0, 3: 1}\n",
            "--> Tiempo de ejecución:  0.0002524852752685547\n"
          ],
          "name": "stdout"
        }
      ]
    },
    {
      "cell_type": "markdown",
      "metadata": {
        "id": "gtAZVezetA8e"
      },
      "source": [
        "#### **$n = 40$**"
      ]
    },
    {
      "cell_type": "markdown",
      "metadata": {
        "id": "9P8BDf-OtA8e"
      },
      "source": [
        "##### **Best cases**"
      ]
    },
    {
      "cell_type": "code",
      "metadata": {
        "colab": {
          "base_uri": "https://localhost:8080/"
        },
        "id": "eGXRvjUntwCd",
        "outputId": "4bad6d34-ba3f-4c54-9395-5ed2dc81b49e"
      },
      "source": [
        "n = 4\n",
        "for i in range(0, n - 2):\n",
        "  list1 = [j for j in range (0, n)]\n",
        "  pref_list = list1[i+1:]\n",
        "  print(pref_list)\n",
        "  pref_list = list1[i:]\n",
        "  pref_list.remove(i + 1)\n",
        "  print(pref_list)  "
      ],
      "execution_count": 26,
      "outputs": [
        {
          "output_type": "stream",
          "text": [
            "[1, 2, 3]\n",
            "[0, 2, 3]\n",
            "[2, 3]\n",
            "[1, 3]\n"
          ],
          "name": "stdout"
        }
      ]
    },
    {
      "cell_type": "code",
      "metadata": {
        "colab": {
          "base_uri": "https://localhost:8080/",
          "height": 138
        },
        "id": "6JkRdsCktA8f",
        "outputId": "05140854-bc3d-4f94-be23-d198a0cfa51a"
      },
      "source": [
        "# Ejemplo de implementación\n",
        "n = 4\n",
        "preferences_dic = {0 : [], 1 : [], 2 : [], 3 : []}\n",
        "for i in range(0, n):\n",
        "  list1 = [j for j in range(0, n)]\n",
        "  list1.remove(i)\n",
        "  preference_lst_n = list1[i:n] + list1[i:0:-1]\n",
        "  if i == (n - 1):\n",
        "    preference_lst_n = list1[i - (n - 1):(n - 1)]\n",
        "  preferences_dic[i] = preference_lst_n\n",
        "\n",
        "preferences_df = pd.DataFrame(preferences_dic)\n",
        "preferences_df.index = ['preference 1', 'preference 2', 'preference 3']\n",
        "preferences_df"
      ],
      "execution_count": 27,
      "outputs": [
        {
          "output_type": "execute_result",
          "data": {
            "text/html": [
              "<div>\n",
              "<style scoped>\n",
              "    .dataframe tbody tr th:only-of-type {\n",
              "        vertical-align: middle;\n",
              "    }\n",
              "\n",
              "    .dataframe tbody tr th {\n",
              "        vertical-align: top;\n",
              "    }\n",
              "\n",
              "    .dataframe thead th {\n",
              "        text-align: right;\n",
              "    }\n",
              "</style>\n",
              "<table border=\"1\" class=\"dataframe\">\n",
              "  <thead>\n",
              "    <tr style=\"text-align: right;\">\n",
              "      <th></th>\n",
              "      <th>0</th>\n",
              "      <th>1</th>\n",
              "      <th>2</th>\n",
              "      <th>3</th>\n",
              "    </tr>\n",
              "  </thead>\n",
              "  <tbody>\n",
              "    <tr>\n",
              "      <th>preference 1</th>\n",
              "      <td>1</td>\n",
              "      <td>2</td>\n",
              "      <td>3</td>\n",
              "      <td>0</td>\n",
              "    </tr>\n",
              "    <tr>\n",
              "      <th>preference 2</th>\n",
              "      <td>2</td>\n",
              "      <td>3</td>\n",
              "      <td>3</td>\n",
              "      <td>1</td>\n",
              "    </tr>\n",
              "    <tr>\n",
              "      <th>preference 3</th>\n",
              "      <td>3</td>\n",
              "      <td>2</td>\n",
              "      <td>1</td>\n",
              "      <td>2</td>\n",
              "    </tr>\n",
              "  </tbody>\n",
              "</table>\n",
              "</div>"
            ],
            "text/plain": [
              "              0  1  2  3\n",
              "preference 1  1  2  3  0\n",
              "preference 2  2  3  3  1\n",
              "preference 3  3  2  1  2"
            ]
          },
          "metadata": {
            "tags": []
          },
          "execution_count": 27
        }
      ]
    },
    {
      "cell_type": "code",
      "metadata": {
        "id": "wXFR6NJNtA8f"
      },
      "source": [
        "# time0 = time()\n",
        "# # game = StableRoommates.create_from_dictionary(preferences_dic)\n",
        "# sol = game.solve()\n",
        "# time1 = time()\n",
        "# print(sol)\n",
        "# print(\"--> Tiempo de ejecución: \", time1 - time0)"
      ],
      "execution_count": 28,
      "outputs": []
    },
    {
      "cell_type": "markdown",
      "metadata": {
        "id": "Ko8jcyK4tA8g"
      },
      "source": [
        "##### **Worst cases**"
      ]
    },
    {
      "cell_type": "code",
      "metadata": {
        "colab": {
          "base_uri": "https://localhost:8080/",
          "height": 0
        },
        "id": "yBPJFo8ttA8g",
        "outputId": "fcfd22d6-1894-49b0-c3af-43843a439928"
      },
      "source": [
        "# Ejemplo de implementación\n",
        "preferences = {0 : [1, 2, 3], 1 : [2, 3, 0], 2 : [3, 0, 1], 3 : [0, 1, 2]}\n",
        "preferences_df = pd.DataFrame(preferences)\n",
        "preferences_df.index = ['preference 1', 'preference 2', 'preference 3']\n",
        "preferences_df"
      ],
      "execution_count": 29,
      "outputs": [
        {
          "output_type": "execute_result",
          "data": {
            "text/html": [
              "<div>\n",
              "<style scoped>\n",
              "    .dataframe tbody tr th:only-of-type {\n",
              "        vertical-align: middle;\n",
              "    }\n",
              "\n",
              "    .dataframe tbody tr th {\n",
              "        vertical-align: top;\n",
              "    }\n",
              "\n",
              "    .dataframe thead th {\n",
              "        text-align: right;\n",
              "    }\n",
              "</style>\n",
              "<table border=\"1\" class=\"dataframe\">\n",
              "  <thead>\n",
              "    <tr style=\"text-align: right;\">\n",
              "      <th></th>\n",
              "      <th>0</th>\n",
              "      <th>1</th>\n",
              "      <th>2</th>\n",
              "      <th>3</th>\n",
              "    </tr>\n",
              "  </thead>\n",
              "  <tbody>\n",
              "    <tr>\n",
              "      <th>preference 1</th>\n",
              "      <td>1</td>\n",
              "      <td>2</td>\n",
              "      <td>3</td>\n",
              "      <td>0</td>\n",
              "    </tr>\n",
              "    <tr>\n",
              "      <th>preference 2</th>\n",
              "      <td>2</td>\n",
              "      <td>3</td>\n",
              "      <td>0</td>\n",
              "      <td>1</td>\n",
              "    </tr>\n",
              "    <tr>\n",
              "      <th>preference 3</th>\n",
              "      <td>3</td>\n",
              "      <td>0</td>\n",
              "      <td>1</td>\n",
              "      <td>2</td>\n",
              "    </tr>\n",
              "  </tbody>\n",
              "</table>\n",
              "</div>"
            ],
            "text/plain": [
              "              0  1  2  3\n",
              "preference 1  1  2  3  0\n",
              "preference 2  2  3  0  1\n",
              "preference 3  3  0  1  2"
            ]
          },
          "metadata": {
            "tags": []
          },
          "execution_count": 29
        }
      ]
    },
    {
      "cell_type": "code",
      "metadata": {
        "colab": {
          "base_uri": "https://localhost:8080/"
        },
        "id": "FT5wrUyttA8g",
        "outputId": "2de154fe-7da3-4944-cde4-a3fdea1bfde6"
      },
      "source": [
        "time0 = time()\n",
        "game = StableRoommates.create_from_dictionary(preferences)\n",
        "sol = game.solve()\n",
        "time1 = time()\n",
        "print(sol)\n",
        "print(\"--> Tiempo de ejecución: \", time1 - time0)"
      ],
      "execution_count": 30,
      "outputs": [
        {
          "output_type": "stream",
          "text": [
            "{0: 2, 1: 3, 2: 0, 3: 1}\n",
            "--> Tiempo de ejecución:  0.0004734992980957031\n"
          ],
          "name": "stdout"
        }
      ]
    },
    {
      "cell_type": "markdown",
      "metadata": {
        "id": "8JiPLXWG00yA"
      },
      "source": [
        "## **2. Run the Gale-Shapley Algorithm 100 times using random permutations as preference lists for $n=4$ and $40$. Find the minimum, maximum and average number of iterations and plot the distribution of the number of iterations.**"
      ]
    },
    {
      "cell_type": "code",
      "metadata": {
        "id": "PvVEI6434B3i"
      },
      "source": [
        "# Generar listas de prefencia aleatorias\n",
        "import random\n",
        "from itertools import permutations\n",
        "def random_list(n):\n",
        "  numbers = [i for i in range(1, n + 1)]\n",
        "  #permutaciones = list(permutations(numbers))\n",
        "  #random_lst = list(random.choice(permutaciones))\n",
        "  return np.random.permutation(numbers)\n",
        "#random_list(4)\n"
      ],
      "execution_count": 39,
      "outputs": []
    },
    {
      "cell_type": "markdown",
      "metadata": {
        "id": "i8J1vqbLZFDV"
      },
      "source": [
        "### **$n = 4$**"
      ]
    },
    {
      "cell_type": "code",
      "metadata": {
        "colab": {
          "base_uri": "https://localhost:8080/"
        },
        "id": "6VwJfzH52Hpz",
        "outputId": "afae00cd-58fc-416f-bb5a-fbf10317b870"
      },
      "source": [
        "man_list = ['a', 'b', 'c', 'd']\n",
        "women_list = ['A', 'B', 'C', 'D']\n",
        "count_list = []\n",
        "n = 4\n",
        "for i in range (0, 100):\n",
        "  women_df = pd.DataFrame({'A': random_list(n), 'B': random_list(n), 'C':random_list(n), 'D':random_list(n)})\n",
        "  women_df.index = man_list\n",
        "  man_df = pd.DataFrame({'A': random_list(n), 'B': random_list(n), 'C':random_list(n), 'D':random_list(n)})\n",
        "  man_df.index = man_list\n",
        "  proposals, count = gale(man_list, women_list, man_df, women_df)\n",
        "  count_list.append(count)\n",
        "\n",
        "# plt.plot(count_list, color='green') #Histograma\n",
        "# plt.title('Número de iteraciones para 100 pruebas con n = 4')\n",
        "# plt.xlabel('Número de prueba')\n",
        "# plt.ylabel('Número de iteraciones')\n",
        "# plt.show()\n",
        "\n",
        "print(\"Maximum number of iterations: \", max(count_list))\n",
        "print(\"Minimum number of iterations: \", min(count_list))\n",
        "print(\"Minimum number of iterations: \", average(count_list))"
      ],
      "execution_count": 40,
      "outputs": [
        {
          "output_type": "stream",
          "text": [
            "Maximum number of iterations:  6\n",
            "Minimum number of iterations:  1\n",
            "Minimum number of iterations:  2.51\n"
          ],
          "name": "stdout"
        }
      ]
    },
    {
      "cell_type": "code",
      "metadata": {
        "colab": {
          "base_uri": "https://localhost:8080/",
          "height": 369
        },
        "id": "ObuvqBAsYYm6",
        "outputId": "c8e845d8-a592-4256-f0c3-247587cf77ef"
      },
      "source": [
        "graph = sns.countplot(count_list, palette = 'Greens_r')\n",
        "graph.set(title = 'Distribución del número de iteraciones para 100 pruebas con n = 4', xlabel = 'Número de iteraciones', ylabel = 'Frecuencia absoluta')\n",
        "graph.plot()"
      ],
      "execution_count": 41,
      "outputs": [
        {
          "output_type": "stream",
          "text": [
            "/usr/local/lib/python3.6/dist-packages/seaborn/_decorators.py:43: FutureWarning: Pass the following variable as a keyword arg: x. From version 0.12, the only valid positional argument will be `data`, and passing other arguments without an explicit keyword will result in an error or misinterpretation.\n",
            "  FutureWarning\n"
          ],
          "name": "stderr"
        },
        {
          "output_type": "execute_result",
          "data": {
            "text/plain": [
              "[]"
            ]
          },
          "metadata": {
            "tags": []
          },
          "execution_count": 41
        },
        {
          "output_type": "display_data",
          "data": {
            "image/png": "[encoded data removed]",
            "text/plain": [
              "<Figure size 432x288 with 1 Axes>"
            ]
          },
          "metadata": {
            "tags": [],
            "needs_background": "light"
          }
        }
      ]
    },
    {
      "cell_type": "markdown",
      "metadata": {
        "id": "NVdxe0NTZMjg"
      },
      "source": [
        "### **$n = 40$**"
      ]
    },
    {
      "cell_type": "code",
      "metadata": {
        "colab": {
          "base_uri": "https://localhost:8080/"
        },
        "id": "BBe5CK7hCOXp",
        "outputId": "59426908-8d95-41b8-d05c-b71c14171651"
      },
      "source": [
        "man_list = ['m1', 'm2', 'm3', 'm4', 'm5', 'm6', 'm7', 'm8', 'm9', 'm10',\n",
        "            'm11', 'm12', 'm13', 'm14', 'm15', 'm16', 'm17', 'm18', 'm19', 'm20',\n",
        "            'm21', 'm22', 'm23', 'm24', 'm25', 'm26', 'm27', 'm28', 'm29', 'm30',\n",
        "            'm31', 'm32', 'm33', 'm34', 'm35', 'm36', 'm37', 'm38', 'm39', 'm40']\n",
        "women_list = ['w1', 'w2', 'w3', 'w4', 'w5', 'w6', 'w7', 'w8', 'w9', 'w10',\n",
        "              'w11', 'w12', 'w13', 'w14', 'w15', 'w16', 'w17', 'w18', 'w19', 'w20',\n",
        "              'w21', 'w22', 'w23', 'w24', 'w25', 'w26', 'w27', 'w28', 'w29', 'w30',\n",
        "              'w31', 'w32', 'w33', 'w34', 'w35', 'w36', 'w37', 'w38', 'w39', 'w40']              \n",
        "count_list = []\n",
        "n = 40\n",
        "for i in range (0, 100):\n",
        "  women_df = pd.DataFrame({'w1': random_list(n), 'w2': random_list(n), 'w3':random_list(n), 'w4':random_list(n), 'w5':random_list(n), 'w6': random_list(n), 'w7':random_list(n), 'w8':random_list(n), 'w9':random_list(n), 'w10':random_list(n),\n",
        "                           'w11': random_list(n), 'w12': random_list(n), 'w13':random_list(n), 'w14':random_list(n), 'w15':random_list(n), 'w16': random_list(n), 'w17':random_list(n), 'w18':random_list(n), 'w19':random_list(n), 'w20':random_list(n),\n",
        "                           'w21': random_list(n), 'w22': random_list(n), 'w23':random_list(n), 'w24':random_list(n), 'w25':random_list(n), 'w26': random_list(n), 'w27':random_list(n), 'w28':random_list(n), 'w29':random_list(n), 'w30':random_list(n),\n",
        "                           'w31': random_list(n), 'w32': random_list(n), 'w33':random_list(n), 'w34':random_list(n), 'w35':random_list(n), 'w36': random_list(n), 'w37':random_list(n), 'w38':random_list(n), 'w39':random_list(n), 'w40':random_list(n)})\n",
        "  women_df.index = man_list\n",
        "  man_df = pd.DataFrame({'w1': random_list(n), 'w2': random_list(n), 'w3':random_list(n), 'w4':random_list(n), 'w5':random_list(n), 'w6': random_list(n), 'w7':random_list(n), 'w8':random_list(n), 'w9':random_list(n), 'w10':random_list(n),\n",
        "                         'w11': random_list(n), 'w12': random_list(n), 'w13':random_list(n), 'w14':random_list(n), 'w15':random_list(n), 'w16': random_list(n), 'w17':random_list(n), 'w18':random_list(n), 'w19':random_list(n), 'w20':random_list(n),\n",
        "                         'w21': random_list(n), 'w22': random_list(n), 'w23':random_list(n), 'w24':random_list(n), 'w25':random_list(n), 'w26': random_list(n), 'w27':random_list(n), 'w28':random_list(n), 'w29':random_list(n), 'w30':random_list(n),\n",
        "                         'w31': random_list(n), 'w32': random_list(n), 'w33':random_list(n), 'w34':random_list(n), 'w35':random_list(n), 'w36': random_list(n), 'w37':random_list(n), 'w38':random_list(n), 'w39':random_list(n), 'w40':random_list(n)})                         \n",
        "  man_df.index = man_list\n",
        "  proposals, count = gale(man_list, women_list, man_df, women_df)\n",
        "  count_list.append(count)\n",
        "\n",
        "# plt.plot(count_list, color='green') #Histograma\n",
        "# plt.title('Número de iteraciones para 100 pruebas con n = 40')\n",
        "# plt.xlabel('Número de prueba')\n",
        "# plt.ylabel('Número de iteraciones')\n",
        "# plt.show()\n",
        "\n",
        "print(\"Maximum number of iterations: \", max(count_list))\n",
        "print(\"Minimum number of iterations: \", min(count_list))\n",
        "print(\"Minimum number of iterations: \", average(count_list))"
      ],
      "execution_count": 42,
      "outputs": [
        {
          "output_type": "stream",
          "text": [
            "Maximum number of iterations:  147\n",
            "Minimum number of iterations:  10\n",
            "Minimum number of iterations:  35.34\n"
          ],
          "name": "stdout"
        }
      ]
    },
    {
      "cell_type": "code",
      "metadata": {
        "colab": {
          "base_uri": "https://localhost:8080/",
          "height": 288
        },
        "id": "lM72UC4sZAWS",
        "outputId": "9596c536-1007-4dcd-8747-4d474f690edf"
      },
      "source": [
        "fig, ax = plt.subplots(figsize = (20, 4))\n",
        "graph = sns.countplot(count_list, palette = 'Greens_r', ax=ax)\n",
        "graph.set(title = 'Distribución del número de iteraciones para 100 pruebas con n = 40', xlabel = 'Número de iteraciones', ylabel = 'Frecuencia absoluta')\n",
        "graph.plot()"
      ],
      "execution_count": 43,
      "outputs": [
        {
          "output_type": "stream",
          "text": [
            "/usr/local/lib/python3.6/dist-packages/seaborn/_decorators.py:43: FutureWarning: Pass the following variable as a keyword arg: x. From version 0.12, the only valid positional argument will be `data`, and passing other arguments without an explicit keyword will result in an error or misinterpretation.\n",
            "  FutureWarning\n"
          ],
          "name": "stderr"
        },
        {
          "output_type": "execute_result",
          "data": {
            "text/plain": [
              "[]"
            ]
          },
          "metadata": {
            "tags": []
          },
          "execution_count": 43
        },
        {
          "output_type": "display_data",
          "data": {
            "image/png": "[encoded data removed]",
            "text/plain": [
              "<Figure size 1440x288 with 1 Axes>"
            ]
          },
          "metadata": {
            "tags": [],
            "needs_background": "light"
          }
        }
      ]
    },
    {
      "cell_type": "markdown",
      "metadata": {
        "id": "1Irza3aAtyoZ"
      },
      "source": [
        "## **References**"
      ]
    },
    {
      "cell_type": "markdown",
      "metadata": {
        "id": "bijkdlwN8eXh"
      },
      "source": [
        "[1] Gale–Shapley algorithm simply explained, [towardsdatascience](https://towardsdatascience.com/gale-shapley-algorithm-simply-explained-caa344e643c2)\n",
        "\n",
        "[2] Stable Marriage Problem, [geeksforgeeks](https://www.geeksforgeeks.org/stable-marriage-problem/)\n",
        "\n",
        "[3] Stable matching, as a game, [towardsdatascience.com](https://towardsdatascience.com/stable-matching-as-a-game-a68c279d70b)\n",
        "\n",
        "\n"
      ]
    }
  ]
}